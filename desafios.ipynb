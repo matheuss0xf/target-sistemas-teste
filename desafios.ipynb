{
 "cells": [
  {
   "metadata": {},
   "cell_type": "markdown",
   "source": "# Desafio Técnico target sistemas:",
   "id": "6d294d870951bef8"
  },
  {
   "metadata": {},
   "cell_type": "markdown",
   "source": [
    "#### 1) Observe o trecho de código abaixo: int INDICE = 13, SOMA = 0, K = 0;\n",
    "#### Enquanto K < INDICE faça { K = K + 1; SOMA = SOMA + K; }\n",
    "#### Imprimir(SOMA);\n",
    "#### Ao final do processamento, qual será o valor da variável SOMA?"
   ],
   "id": "d1731034fc0cf03b"
  },
  {
   "metadata": {
    "ExecuteTime": {
     "end_time": "2025-01-11T14:43:14.182504Z",
     "start_time": "2025-01-11T14:43:14.173525Z"
    }
   },
   "cell_type": "code",
   "source": [
    "indice = 13\n",
    "soma = 0\n",
    "k = 0\n",
    "\n",
    "while k < indice:\n",
    "    k += 1\n",
    "    soma += k\n",
    "\n",
    "print(\"Desafio 1 - Soma final:\", soma) # Soma Final: 91"
   ],
   "id": "7d1e5b771b1b2a8",
   "outputs": [
    {
     "name": "stdout",
     "output_type": "stream",
     "text": [
      "Desafio 1 - Soma final: 91\n"
     ]
    }
   ],
   "execution_count": 24
  },
  {
   "metadata": {},
   "cell_type": "markdown",
   "source": [
    "#### 2) Dado a sequência de Fibonacci, onde se inicia por 0 e 1 e o próximo valor sempre será a soma dos 2 valores anteriores (exemplo: 0, 1, 1, 2, 3, 5, 8, 13, 21, 34...), escreva um programa na linguagem que desejar onde, informado um número, ele calcule a sequência de Fibonacci e retorne uma mensagem avisando se o número informado pertence ou não a sequência.\n",
    "\n",
    "#### IMPORTANTE: Esse número pode ser informado através de qualquer entrada de sua preferência ou pode ser previamente definido no código;"
   ],
   "id": "38bfc91084c1f484"
  },
  {
   "metadata": {
    "ExecuteTime": {
     "end_time": "2025-01-11T14:43:34.392252Z",
     "start_time": "2025-01-11T14:43:32.089823Z"
    }
   },
   "cell_type": "code",
   "source": [
    "def is_fibonacci_number(number):\n",
    "    previous_number, current_number = 0, 1\n",
    "    while current_number <= number:\n",
    "        if current_number == number:\n",
    "            return True\n",
    "        previous_number, current_number = current_number, previous_number + current_number\n",
    "    return False\n",
    "\n",
    "number = int(input(\"Desafio 2 - Informe um número para verificar se pertence à sequência de Fibonacci: \"))\n",
    "if is_fibonacci_number(number):\n",
    "    print(f\"O número {number} pertence à sequência de Fibonacci.\")\n",
    "else:\n",
    "    print(f\"O número {number} não pertence à sequência de Fibonacci.\")"
   ],
   "id": "31e526714d465e3f",
   "outputs": [
    {
     "name": "stdout",
     "output_type": "stream",
     "text": [
      "O número 56 não pertence à sequência de Fibonacci.\n"
     ]
    }
   ],
   "execution_count": 25
  },
  {
   "metadata": {},
   "cell_type": "markdown",
   "source": [
    "#### 3) Dado um vetor que guarda o valor de faturamento diário de uma distribuidora, faça um programa, na linguagem que desejar, que calcule e retorne:\n",
    "#### • O menor valor de faturamento ocorrido em um dia do mês;\n",
    "#### • O maior valor de faturamento ocorrido em um dia do mês;\n",
    "#### • Número de dias no mês em que o valor de faturamento diário foi superior à média mensal.\n",
    "\n",
    "#### IMPORTANTE:\n",
    "#### a) Usar o json ou xml disponível como fonte dos dados do faturamento mensal;\n",
    "#### b) Podem existir dias sem faturamento, como nos finais de semana e feriados. Estes dias devem ser ignorados no cálculo da média;"
   ],
   "id": "cbb5f77da83ab2df"
  },
  {
   "metadata": {
    "ExecuteTime": {
     "end_time": "2025-01-11T14:43:40.473273Z",
     "start_time": "2025-01-11T14:43:40.462562Z"
    }
   },
   "cell_type": "code",
   "source": [
    "import json\n",
    "\n",
    "with open(\"dados.json\", \"r\") as file:\n",
    "    daily_data = json.load(file)\n",
    "\n",
    "revenue_values = [entry[\"valor\"] for entry in daily_data if entry[\"valor\"] > 0]\n",
    "\n",
    "lowest_revenue = min(revenue_values)\n",
    "highest_revenue = max(revenue_values)\n",
    "average_revenue = sum(revenue_values) / len(revenue_values)\n",
    "\n",
    "above_average_days = [entry for entry in daily_data if entry[\"valor\"] > average_revenue]\n",
    "days_above_average = len(above_average_days)\n",
    "\n",
    "print(\"Estatísticas de Faturamento:\")\n",
    "print(f\"Menor valor de faturamento: R${lowest_revenue:.2f}\")\n",
    "print(f\"Maior valor de faturamento: R${highest_revenue:.2f}\")\n",
    "print(f\"Número de dias com faturamento acima da média: {average_revenue}\")\n"
   ],
   "id": "ad11e6385b8afdb9",
   "outputs": [
    {
     "name": "stdout",
     "output_type": "stream",
     "text": [
      "Estatísticas de Faturamento:\n",
      "Menor valor de faturamento: R$373.78\n",
      "Maior valor de faturamento: R$48924.24\n",
      "Número de dias com faturamento acima da média: 20865.370166666664\n"
     ]
    }
   ],
   "execution_count": 28
  },
  {
   "metadata": {},
   "cell_type": "markdown",
   "source": [
    "#### 4) Dado o valor de faturamento mensal de uma distribuidora, detalhado por estado:\n",
    "#### • SP – R\\$67.836,43\n",
    "#### • RJ – R\\$36.678,66\n",
    "#### • MG – R\\$29.229,88\n",
    "#### • ES – R\\$27.165,48\n",
    "#### • Outros – R\\$19.849,53\n",
    "\n",
    "#### Escreva um programa na linguagem que desejar onde calcule o percentual de representação que cada estado teve dentro do valor total mensal da distribuidora."
   ],
   "id": "3ebf2770f04909dc"
  },
  {
   "metadata": {
    "ExecuteTime": {
     "end_time": "2025-01-11T14:43:43.326579Z",
     "start_time": "2025-01-11T14:43:43.316585Z"
    }
   },
   "cell_type": "code",
   "source": [
    "state_revenue = {\n",
    "    \"SP\": 67836.43,\n",
    "    \"RJ\": 36678.66,\n",
    "    \"MG\": 29229.88,\n",
    "    \"ES\": 27165.48,\n",
    "    \"Outros\": 19849.53\n",
    "}\n",
    "\n",
    "total_revenue = sum(state_revenue.values())\n",
    "\n",
    "print(\"Desafio 4 - Percentual de Representação por Estado:\")\n",
    "for state, revenue in state_revenue.items():\n",
    "    percentage = (revenue / total_revenue) * 100\n",
    "    print(f\"{state}: {percentage:.2f}%\")"
   ],
   "id": "525503246a3ed67a",
   "outputs": [
    {
     "name": "stdout",
     "output_type": "stream",
     "text": [
      "Desafio 4 - Percentual de Representação por Estado:\n",
      "SP: 37.53%\n",
      "RJ: 20.29%\n",
      "MG: 16.17%\n",
      "ES: 15.03%\n",
      "Outros: 10.98%\n"
     ]
    }
   ],
   "execution_count": 29
  },
  {
   "metadata": {},
   "cell_type": "markdown",
   "source": [
    "#### 5) Escreva um programa que inverta os caracteres de um string.\n",
    "\n",
    "#### IMPORTANTE:\n",
    "#### a) Essa string pode ser informada através de qualquer entrada de sua preferência ou pode ser previamente definida no código;\n",
    "#### b) Evite usar funções prontas, como, por exemplo, reverse;"
   ],
   "id": "9352b0c9ebff4ab1"
  },
  {
   "metadata": {
    "ExecuteTime": {
     "end_time": "2025-01-11T14:43:54.344595Z",
     "start_time": "2025-01-11T14:43:49.991779Z"
    }
   },
   "cell_type": "code",
   "source": [
    "def reverse_string(s):\n",
    "    reversed_str = \"\"\n",
    "    for char in s:\n",
    "        reversed_str = char + reversed_str\n",
    "    return reversed_str\n",
    "\n",
    "text = input(\"Desafio 5 - Informe uma string para inverter: \")\n",
    "print(\"String invertida:\", reverse_string(text))"
   ],
   "id": "54bea2c01e32dca0",
   "outputs": [
    {
     "name": "stdout",
     "output_type": "stream",
     "text": [
      "String invertida: uE\n"
     ]
    }
   ],
   "execution_count": 30
  }
 ],
 "metadata": {
  "kernelspec": {
   "display_name": "Python 3",
   "language": "python",
   "name": "python3"
  },
  "language_info": {
   "codemirror_mode": {
    "name": "ipython",
    "version": 2
   },
   "file_extension": ".py",
   "mimetype": "text/x-python",
   "name": "python",
   "nbconvert_exporter": "python",
   "pygments_lexer": "ipython2",
   "version": "2.7.6"
  }
 },
 "nbformat": 4,
 "nbformat_minor": 5
}
